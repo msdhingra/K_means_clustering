{
 "cells": [
  {
   "cell_type": "code",
   "execution_count": 1,
   "metadata": {},
   "outputs": [],
   "source": [
    "import pandas as pd\n",
    "import numpy as np\n",
    "import matplotlib.pyplot as plt\n",
    "%matplotlib inline"
   ]
  },
  {
   "cell_type": "code",
   "execution_count": 2,
   "metadata": {},
   "outputs": [
    {
     "name": "stdout",
     "output_type": "stream",
     "text": [
      "<class 'pandas.core.frame.DataFrame'>\n",
      "RangeIndex: 4000 entries, 0 to 3999\n",
      "Data columns (total 2 columns):\n",
      "Distance_Feature    4000 non-null float64\n",
      "Speeding_Feature    4000 non-null float64\n",
      "dtypes: float64(2)\n",
      "memory usage: 62.6 KB\n"
     ]
    }
   ],
   "source": [
    "data=pd.read_csv('data_1024.csv',delimiter='\\t')[['Distance_Feature','Speeding_Feature']]\n",
    "data.info()"
   ]
  },
  {
   "cell_type": "code",
   "execution_count": 3,
   "metadata": {},
   "outputs": [
    {
     "data": {
      "text/html": [
       "<div>\n",
       "<style scoped>\n",
       "    .dataframe tbody tr th:only-of-type {\n",
       "        vertical-align: middle;\n",
       "    }\n",
       "\n",
       "    .dataframe tbody tr th {\n",
       "        vertical-align: top;\n",
       "    }\n",
       "\n",
       "    .dataframe thead th {\n",
       "        text-align: right;\n",
       "    }\n",
       "</style>\n",
       "<table border=\"1\" class=\"dataframe\">\n",
       "  <thead>\n",
       "    <tr style=\"text-align: right;\">\n",
       "      <th></th>\n",
       "      <th>Distance_Feature</th>\n",
       "      <th>Speeding_Feature</th>\n",
       "    </tr>\n",
       "  </thead>\n",
       "  <tbody>\n",
       "    <tr>\n",
       "      <th>0</th>\n",
       "      <td>71.24</td>\n",
       "      <td>28.0</td>\n",
       "    </tr>\n",
       "    <tr>\n",
       "      <th>1</th>\n",
       "      <td>52.53</td>\n",
       "      <td>25.0</td>\n",
       "    </tr>\n",
       "    <tr>\n",
       "      <th>2</th>\n",
       "      <td>64.54</td>\n",
       "      <td>27.0</td>\n",
       "    </tr>\n",
       "    <tr>\n",
       "      <th>3</th>\n",
       "      <td>55.69</td>\n",
       "      <td>22.0</td>\n",
       "    </tr>\n",
       "    <tr>\n",
       "      <th>4</th>\n",
       "      <td>54.58</td>\n",
       "      <td>25.0</td>\n",
       "    </tr>\n",
       "  </tbody>\n",
       "</table>\n",
       "</div>"
      ],
      "text/plain": [
       "   Distance_Feature  Speeding_Feature\n",
       "0             71.24              28.0\n",
       "1             52.53              25.0\n",
       "2             64.54              27.0\n",
       "3             55.69              22.0\n",
       "4             54.58              25.0"
      ]
     },
     "execution_count": 3,
     "metadata": {},
     "output_type": "execute_result"
    }
   ],
   "source": [
    "data.head()"
   ]
  },
  {
   "cell_type": "code",
   "execution_count": 4,
   "metadata": {},
   "outputs": [
    {
     "data": {
      "text/plain": [
       "(4000, 2)"
      ]
     },
     "execution_count": 4,
     "metadata": {},
     "output_type": "execute_result"
    }
   ],
   "source": [
    "data.shape"
   ]
  },
  {
   "cell_type": "code",
   "execution_count": 5,
   "metadata": {},
   "outputs": [
    {
     "data": {
      "text/plain": [
       "<matplotlib.axes._subplots.AxesSubplot at 0xe87b6836a0>"
      ]
     },
     "execution_count": 5,
     "metadata": {},
     "output_type": "execute_result"
    },
    {
     "data": {
      "image/png": "[encoded data removed]",
      "text/plain": [
       "<Figure size 432x288 with 1 Axes>"
      ]
     },
     "metadata": {},
     "output_type": "display_data"
    }
   ],
   "source": [
    "data.plot(x='Distance_Feature',y='Speeding_Feature',kind='scatter')"
   ]
  },
  {
   "cell_type": "markdown",
   "metadata": {},
   "source": [
    "## vectorization"
   ]
  },
  {
   "cell_type": "code",
   "execution_count": 6,
   "metadata": {},
   "outputs": [
    {
     "data": {
      "text/plain": [
       "array([[ 48.21,   8.  ],\n",
       "       [ 60.4 ,  28.  ],\n",
       "       [ 44.31,  19.  ],\n",
       "       [163.39,   6.  ]])"
      ]
     },
     "execution_count": 6,
     "metadata": {},
     "output_type": "execute_result"
    }
   ],
   "source": [
    "k=4\n",
    "c=np.array(data.sample(n=k))\n",
    "c"
   ]
  },
  {
   "cell_type": "code",
   "execution_count": 7,
   "metadata": {},
   "outputs": [
    {
     "data": {
      "text/plain": [
       "4"
      ]
     },
     "execution_count": 7,
     "metadata": {},
     "output_type": "execute_result"
    }
   ],
   "source": [
    "len(c)"
   ]
  },
  {
   "cell_type": "code",
   "execution_count": 8,
   "metadata": {},
   "outputs": [],
   "source": [
    "x1=np.array(data)"
   ]
  },
  {
   "cell_type": "code",
   "execution_count": 9,
   "metadata": {},
   "outputs": [
    {
     "data": {
      "text/plain": [
       "numpy.ndarray"
      ]
     },
     "execution_count": 9,
     "metadata": {},
     "output_type": "execute_result"
    }
   ],
   "source": [
    "type(x1)"
   ]
  },
  {
   "cell_type": "code",
   "execution_count": 10,
   "metadata": {},
   "outputs": [],
   "source": [
    "for i in range(100):\n",
    "    x2=c[:,np.newaxis,:]\n",
    "    distance=np.sqrt(np.sum(np.square(x2-x1),axis=2))\n",
    "    c1=[]\n",
    "    c2=[]\n",
    "    c3=[]\n",
    "    c4=[]\n",
    "    c_index=np.argmin(distance,axis=0)\n",
    "    count1=count2=count3=count4=0\n",
    "    for i in range (len(c_index)):\n",
    "        if c_index[i]==0:\n",
    "            count1+=1\n",
    "            c1.append(np.array(data)[i])\n",
    "        elif c_index[i]==1:\n",
    "            count2+=1\n",
    "            c2.append(np.array(data)[i])\n",
    "        elif c_index[i]==2:\n",
    "            count3+=1\n",
    "            c3.append(np.array(data)[i])\n",
    "        elif c_index[i]==3:\n",
    "            count4+=1\n",
    "            c4.append(np.array(data)[i])\n",
    "    c[0]=np.mean(c1,axis=0)\n",
    "    c[1]=np.mean(c2,axis=0)\n",
    "    c[2]=np.mean(c3,axis=0)\n",
    "    #c[3]=np.mean(c4,axis=0)\n",
    "        "
   ]
  },
  {
   "cell_type": "code",
   "execution_count": 11,
   "metadata": {},
   "outputs": [
    {
     "data": {
      "text/plain": [
       "array([[[ 57.83452414,   5.2862069 ]],\n",
       "\n",
       "       [[ 50.61421836,  33.06203474]],\n",
       "\n",
       "       [[ 41.49579807,   5.39198218]],\n",
       "\n",
       "       [[163.39      ,   6.        ]]])"
      ]
     },
     "execution_count": 11,
     "metadata": {},
     "output_type": "execute_result"
    }
   ],
   "source": [
    "x2"
   ]
  },
  {
   "cell_type": "code",
   "execution_count": 12,
   "metadata": {},
   "outputs": [
    {
     "data": {
      "text/plain": [
       "array([[ 26.37466929,  20.41498506,  22.72558509, ..., 113.27461436,\n",
       "        118.30582206, 110.25803898],\n",
       "       [ 21.23786863,   8.28653265,  15.18801038, ..., 122.12569094,\n",
       "        128.62425762, 119.85594392],\n",
       "       [ 37.36094241,  22.49951055,  31.59021489, ..., 129.58279809,\n",
       "        134.64477251, 126.5856313 ],\n",
       "       [ 94.73976198, 112.47639575, 101.05603644, ...,   9.62031185,\n",
       "         12.78915556,   5.52535972]])"
      ]
     },
     "execution_count": 12,
     "metadata": {},
     "output_type": "execute_result"
    }
   ],
   "source": [
    "distance"
   ]
  },
  {
   "cell_type": "code",
   "execution_count": 13,
   "metadata": {},
   "outputs": [
    {
     "data": {
      "text/plain": [
       "array([1, 1, 1, ..., 3, 3, 3], dtype=int64)"
      ]
     },
     "execution_count": 13,
     "metadata": {},
     "output_type": "execute_result"
    }
   ],
   "source": [
    "c_index"
   ]
  },
  {
   "cell_type": "code",
   "execution_count": 14,
   "metadata": {},
   "outputs": [
    {
     "data": {
      "text/plain": [
       "4000"
      ]
     },
     "execution_count": 14,
     "metadata": {},
     "output_type": "execute_result"
    }
   ],
   "source": [
    "len(c_index)"
   ]
  },
  {
   "cell_type": "code",
   "execution_count": 15,
   "metadata": {},
   "outputs": [
    {
     "data": {
      "text/plain": [
       "(4, 4000, 2)"
      ]
     },
     "execution_count": 15,
     "metadata": {},
     "output_type": "execute_result"
    }
   ],
   "source": [
    "(x2-x1).shape"
   ]
  },
  {
   "cell_type": "code",
   "execution_count": 16,
   "metadata": {},
   "outputs": [
    {
     "data": {
      "text/plain": [
       "(1450, 403, 1347, 800)"
      ]
     },
     "execution_count": 16,
     "metadata": {},
     "output_type": "execute_result"
    }
   ],
   "source": [
    "len(c1),len(c2),len(c3),len(c4)"
   ]
  },
  {
   "cell_type": "code",
   "execution_count": 17,
   "metadata": {},
   "outputs": [
    {
     "data": {
      "text/plain": [
       "(1450, 403)"
      ]
     },
     "execution_count": 17,
     "metadata": {},
     "output_type": "execute_result"
    }
   ],
   "source": [
    "count1,count2"
   ]
  },
  {
   "cell_type": "code",
   "execution_count": 18,
   "metadata": {},
   "outputs": [
    {
     "data": {
      "image/png": "[encoded data removed]",
      "text/plain": [
       "<Figure size 432x288 with 1 Axes>"
      ]
     },
     "metadata": {},
     "output_type": "display_data"
    }
   ],
   "source": [
    "data.plot(x='Distance_Feature',y='Speeding_Feature',kind='scatter')\n",
    "for i in range(k):\n",
    "    plt.scatter(c[i][0],c[i][1],c='r')"
   ]
  },
  {
   "cell_type": "code",
   "execution_count": 19,
   "metadata": {},
   "outputs": [
    {
     "data": {
      "text/plain": [
       "KMeans(algorithm='auto', copy_x=True, init='k-means++', max_iter=300,\n",
       "    n_clusters=4, n_init=10, n_jobs=1, precompute_distances='auto',\n",
       "    random_state=0, tol=0.0001, verbose=0)"
      ]
     },
     "execution_count": 19,
     "metadata": {},
     "output_type": "execute_result"
    }
   ],
   "source": [
    " from sklearn.cluster import KMeans\n",
    "import numpy as np\n",
    "kmeans = KMeans(n_clusters=4, random_state=0).fit(x1)\n",
    "kmeans"
   ]
  },
  {
   "cell_type": "code",
   "execution_count": 20,
   "metadata": {},
   "outputs": [
    {
     "data": {
      "text/plain": [
       "<matplotlib.collections.PathCollection at 0xe80cfaf470>"
      ]
     },
     "execution_count": 20,
     "metadata": {},
     "output_type": "execute_result"
    },
    {
     "data": {
      "image/png": "[encoded data removed]",
      "text/plain": [
       "<Figure size 432x288 with 1 Axes>"
      ]
     },
     "metadata": {},
     "output_type": "display_data"
    }
   ],
   "source": [
    "plt.scatter(x=data['Distance_Feature'],y=data['Speeding_Feature'],data=data)\n",
    "plt.scatter(kmeans.cluster_centers_[:, 0], kmeans.cluster_centers_[:, 1],)"
   ]
  },
  {
   "cell_type": "markdown",
   "metadata": {},
   "source": [
    "## for loop"
   ]
  },
  {
   "cell_type": "code",
   "execution_count": 21,
   "metadata": {},
   "outputs": [
    {
     "data": {
      "text/plain": [
       "(4000, 2)"
      ]
     },
     "execution_count": 21,
     "metadata": {},
     "output_type": "execute_result"
    }
   ],
   "source": [
    "x1.shape"
   ]
  },
  {
   "cell_type": "code",
   "execution_count": 44,
   "metadata": {},
   "outputs": [],
   "source": [
    " for i in range(1000):\n",
    "    dist=[]\n",
    "    for i in c:\n",
    "        for j in x1:\n",
    "            dist.append((i-j)**2)\n",
    "    dist=np.sum(np.array(dist)**2,axis=1).reshape(4,len(x1))\n",
    "    index=np.argmin(dist,axis=0)\n",
    "    for i in range(k):\n",
    "        c[i]=np.mean(x1[np.where(index==i)],axis=0)"
   ]
  },
  {
   "cell_type": "code",
   "execution_count": 45,
   "metadata": {},
   "outputs": [
    {
     "data": {
      "text/plain": [
       "array([[2.97569979e+05, 1.51550616e+05, 2.23863378e+05, ...,\n",
       "        1.63226934e+08, 1.95597152e+08, 1.47214436e+08],\n",
       "       [1.81027616e+05, 4.00857977e+03, 3.86900667e+04, ...,\n",
       "        2.09493936e+08, 2.48758793e+08, 1.90292719e+08],\n",
       "       [1.04689432e+06, 1.62757210e+05, 5.01334884e+05, ...,\n",
       "        2.80744134e+08, 3.28939370e+08, 2.56578726e+08],\n",
       "       [1.40424953e+08, 2.64819188e+08, 1.78316273e+08, ...,\n",
       "        8.70507896e+03, 3.16093760e+04, 2.87051976e+04]])"
      ]
     },
     "execution_count": 45,
     "metadata": {},
     "output_type": "execute_result"
    }
   ],
   "source": [
    "dist"
   ]
  },
  {
   "cell_type": "code",
   "execution_count": 55,
   "metadata": {},
   "outputs": [
    {
     "data": {
      "image/png": "[encoded data removed]",
      "text/plain": [
       "<Figure size 432x288 with 1 Axes>"
      ]
     },
     "metadata": {},
     "output_type": "display_data"
    }
   ],
   "source": [
    "plt.scatter(x=data['Distance_Feature'],y=data['Speeding_Feature'],data=data)    \n",
    "for i in range(k):\n",
    "    plt.scatter(c[i][0],c[i][1],c='r')  \n"
   ]
  },
  {
   "cell_type": "markdown",
   "metadata": {},
   "source": [
    "## kmeans++"
   ]
  },
  {
   "cell_type": "code",
   "execution_count": 56,
   "metadata": {},
   "outputs": [],
   "source": [
    "k=2\n",
    "x1=np.array(data)\n",
    "c1=np.min(x1,axis=0)\n",
    "c2=x1[np.argmax(np.sum(np.square(x1-c1),axis=1))]\n",
    "cent=np.array([c1,c2])"
   ]
  },
  {
   "cell_type": "code",
   "execution_count": 62,
   "metadata": {},
   "outputs": [
    {
     "data": {
      "text/plain": [
       "array([[ 15.52,   0.  ],\n",
       "       [234.52,  88.  ],\n",
       "       [199.81,  32.  ],\n",
       "       [ 30.37,  37.  ]])"
      ]
     },
     "execution_count": 62,
     "metadata": {},
     "output_type": "execute_result"
    }
   ],
   "source": [
    "c=[[],[]]\n",
    "x2=cent[:,np.newaxis,:]\n",
    "distance=np.sqrt(np.sum(np.square(x2-x1),axis=2))\n",
    "c_index=np.argmin(distance,axis=0)\n",
    "for i in range(k):\n",
    "    c[i]=(x1[np.where(c_index==i)])\n",
    "    \n",
    "c3=x1[np.argmax(np.sum(np.square(c[0]-c1),axis=1))]\n",
    "c4=x1[np.argmax(np.sum(np.square(c[1]-c2),axis=1))]\n",
    "centroid=np.array([c1,c2,c3,c4])\n",
    "centroid"
   ]
  },
  {
   "cell_type": "code",
   "execution_count": 63,
   "metadata": {},
   "outputs": [],
   "source": [
    " s=4\n",
    "for i in range(10000):\n",
    "    x2=centroid[:,np.newaxis,:]\n",
    "    distance=np.sqrt(np.sum(np.square(x2-x1),axis=2))\n",
    "    c_index=np.argmin(distance,axis=0)\n",
    "    for i in range(s):\n",
    "        centroid[i]=np.mean(x1[np.where(c_index==i)],axis=0)"
   ]
  },
  {
   "cell_type": "code",
   "execution_count": 64,
   "metadata": {},
   "outputs": [
    {
     "data": {
      "image/png": "[encoded data removed]",
      "text/plain": [
       "<Figure size 432x288 with 1 Axes>"
      ]
     },
     "metadata": {},
     "output_type": "display_data"
    }
   ],
   "source": [
    " plt.scatter(x=data['Distance_Feature'],y=data['Speeding_Feature'],data=data)    \n",
    "for i in range(s):\n",
    "    plt.scatter(centroid[i][0],centroid[i][1],c='r')"
   ]
  },
  {
   "cell_type": "code",
   "execution_count": 65,
   "metadata": {},
   "outputs": [
    {
     "data": {
      "text/plain": [
       "array([[ 41.68474206,   7.07407407],\n",
       "       [177.83509615,  70.28846154],\n",
       "       [180.43486331,  10.5294964 ],\n",
       "       [ 57.57352279,  10.39668443]])"
      ]
     },
     "execution_count": 65,
     "metadata": {},
     "output_type": "execute_result"
    }
   ],
   "source": [
    "centroid"
   ]
  }
 ],
 "metadata": {
  "kernelspec": {
   "display_name": "Python 3",
   "language": "python",
   "name": "python3"
  },
  "language_info": {
   "codemirror_mode": {
    "name": "ipython",
    "version": 3
   },
   "file_extension": ".py",
   "mimetype": "text/x-python",
   "name": "python",
   "nbconvert_exporter": "python",
   "pygments_lexer": "ipython3",
   "version": "3.6.5"
  }
 },
 "nbformat": 4,
 "nbformat_minor": 2
}
